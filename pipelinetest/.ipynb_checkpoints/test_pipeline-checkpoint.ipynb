{
 "cells": [
  {
   "cell_type": "code",
   "execution_count": 1,
   "metadata": {},
   "outputs": [],
   "source": [
    "import sys\n",
    "sys.path.append('/home/midai/salt3_local/SALT3/salt3')\n",
    "import pandas as pd\n",
    "import pipeline.pipeline\n",
    "from pipeline.pipeline import *\n"
   ]
  },
  {
   "cell_type": "code",
   "execution_count": 2,
   "metadata": {},
   "outputs": [],
   "source": [
    "%load_ext autoreload\n",
    "%autoreload 2"
   ]
  },
  {
   "cell_type": "code",
   "execution_count": 26,
   "metadata": {},
   "outputs": [],
   "source": [
    "def test_pipeline():\n",
    "    pipe = SALT3pipe(finput='sampleinput.txt')\n",
    "    pipe.build(data=False,mode='customize',onlyrun=['byosed','sim','train'])\n",
    "    pipe.configure()\n",
    "#     pipe.glue(['sim','train'])\n",
    "#     pipe.run()\n",
    "    pipe.build(data=False,mode='customize',onlyrun=['lcfit','getmu','cosmofit'])\n",
    "    pipe.configure()\n",
    "    pipe.glue(['train','lcfit'],on='model')\n",
    "    pipe.glue(['sim','lcfit'],on='phot')\n",
    "    pipe.glue(['lcfit','getmu'])\n",
    "    pipe.glue(['getmu','cosmofit'])\n",
    "    pipe.run()"
   ]
  },
  {
   "cell_type": "code",
   "execution_count": 50,
   "metadata": {},
   "outputs": [
    {
     "name": "stdout",
     "output_type": "stream",
     "text": [
      "Current procedures:  ['byosed', 'sim', 'train']\n",
      "Adding/modifying key COLOR=True in [FLAGS]\n",
      "Adding/modifying key STRETCH=True in [FLAGS]\n",
      "Adding/modifying key DIST_PEAK=0.0 in [COLOR]\n",
      "input file saved as: pipelinetest/TEST_BYOSED.params\n",
      "pipelinetest/TEST_BYOSED.params is copied to byosed/byosed.params\n",
      "Load base sim input file.. simulation/SIMGEN_BYOSEDTEST.INPUT\n",
      "Setting NGEN_LC = 20\n",
      "Setting GENVERSION = MD_BYOSEDTEST\n",
      "Setting GENSOURCE = RANDOM\n",
      "Setting GENRANGE_REDSHIFT = 0.01 0.1\n",
      "Write sim input to file: pipelinetest/TEST_SIMGEN_BYOSEDTEST.INPUT\n",
      "Adding/modifying key waverange=2000,9200 in [trainparams]\n",
      "Adding/modifying key n_steps_mcmc=500 in [mcmcparams]\n",
      "Adding/modifying key n_burnin_mcmc=200 in [mcmcparams]\n",
      "Adding/modifying key snlist=training/data/SALT3TEST_SIMPLE.LIST in [iodata]\n",
      "Adding/modifying key waveoutres=5 in [trainparams]\n",
      "input file saved as: pipelinetest/TEST_SALT.conf\n",
      "Current procedures:  ['lcfit', 'getmu', 'cosmofit']\n",
      "Adding/modifying key VERSION_PHOTOMETRY=SALT3TEST_SIMPLE in &SNLCINP\n",
      "Adding/modifying key KCOR_FILE=kcor/kcor_PS1_LOWZ_COMBINED.fits in &SNLCINP\n",
      "Adding/modifying key FILTLIST_FIT=bcdeghi in &FITINP\n",
      "Write fit input to file: pipelinetest/snfit_TEST.nml\n",
      "Adding/modifying key file=ps1sim_default.fitres\n",
      "Adding/modifying key prefix=test_salt2mu\n",
      "input file saved as: pipelinetest/test_salt2mu.input\n",
      "Connecting  ['train', 'lcfit']\n",
      "salt3 model files copied to lcfitting/SALT3.test\n",
      "Adding/modifying key FITMODEL_NAME=lcfitting/SALT3.test in &FITINP\n",
      "Write fit input to file: pipelinetest/snfit_TEST.nml\n",
      "Connecting  ['sim', 'lcfit']\n",
      "Adding/modifying key VERSION_PHOTOMETRY=MD_BYOSEDTEST in &SNLCINP\n",
      "Write fit input to file: pipelinetest/snfit_TEST.nml\n",
      "Connecting  ['lcfit', 'getmu']\n",
      "Adding/modifying key file=snfit_test.FITRES.TEXT\n",
      "input file saved as: pipelinetest/test_salt2mu.input\n",
      "Connecting  ['getmu', 'cosmofit']\n",
      "Running snlc_fit.exe pipelinetest/snfit_TEST.nml\n",
      "snlc_fit.exe finished successfully.\n",
      "Running SALT2mu.exe pipelinetest/test_salt2mu.input\n",
      "SALT2mu.exe finished successfully.\n",
      "Running wfit.exe test_salt2mu.M0DIF -ompri 0.3 -dompri 0.01\n",
      "wfit.exe finished successfully.\n"
     ]
    }
   ],
   "source": [
    "test_pipeline()"
   ]
  },
  {
   "cell_type": "code",
   "execution_count": 29,
   "metadata": {},
   "outputs": [],
   "source": [
    "def test_pipeline_data():\n",
    "    pipe = SALT3pipe(finput='sampleinput.txt')\n",
    "    pipe.build(data=True,mode='customize',onlyrun='data')\n",
    "    pipe.configure()\n",
    "    pipe.run()\n",
    "    pipe.build(data=True,mode='customize',onlyrun=['train'])\n",
    "    pipe.configure()\n",
    "    pipe.glue(['data','train'])\n",
    "    pipe.run()\n",
    "    pipe.build(data=True,mode='customize',onlyrun=['lcfit','getmu','cosmofit'])\n",
    "    pipe.configure()\n",
    "    pipe.glue(['train','lcfit'],on='model')\n",
    "    pipe.glue(['data','lcfit'],on='phot')\n",
    "    pipe.glue(['lcfit','getmu'])\n",
    "    pipe.glue(['getmu','cosmofit'])\n",
    "    pipe.run()"
   ]
  },
  {
   "cell_type": "code",
   "execution_count": 30,
   "metadata": {},
   "outputs": [
    {
     "name": "stdout",
     "output_type": "stream",
     "text": [
      "Current procedures:  ['data']\n",
      "Current procedures:  ['train']\n",
      "Adding/modifying key snlist=exampledata/snana/data/SALT3TEST_SIMPLE.LIST in [iodata]\n",
      "Adding/modifying key waverange=2000,9200 in [trainparams]\n",
      "Adding/modifying key n_steps_mcmc=50 in [mcmcparams]\n",
      "Adding/modifying key n_burnin_mcmc=10 in [mcmcparams]\n",
      "input file saved as: pipelinetest/TEST_SALT.conf\n",
      "Current procedures:  ['lcfit', 'getmu', 'cosmofit']\n",
      "Adding/modifying key VERSION_PHOTOMETRY=SALT3TEST_SIMPLE in &SNLCINP\n",
      "Adding/modifying key KCOR_FILE=kcor/kcor_PS1_LOWZ_COMBINED.fits in &SNLCINP\n",
      "Adding/modifying key FILTLIST_FIT=bcdeghi in &FITINP\n",
      "Write fit input to file: pipelinetest/snfit_TEST.nml\n",
      "Adding/modifying key file=ps1sim_default.fitres\n",
      "Adding/modifying key prefix=test_salt2mu\n",
      "input file saved as: pipelinetest/test_salt2mu.input\n",
      "Connecting  ['data', 'lcfit']\n",
      "Adding/modifying key VERSION_PHOTOMETRY=BYOSEDTEST in &SNLCINP\n",
      "Write fit input to file: pipelinetest/snfit_TEST.nml\n",
      "Connecting  ['lcfit', 'getmu']\n",
      "Adding/modifying key file=snfit_test.FITRES.TEXT\n",
      "input file saved as: pipelinetest/test_salt2mu.input\n",
      "Connecting  ['getmu', 'cosmofit']\n",
      "Running snlc_fit.exe pipelinetest/snfit_TEST.nml\n"
     ]
    },
    {
     "ename": "ValueError",
     "evalue": "Something went wrong..",
     "output_type": "error",
     "traceback": [
      "\u001b[0;31m---------------------------------------------------------------------------\u001b[0m",
      "\u001b[0;31mValueError\u001b[0m                                Traceback (most recent call last)",
      "\u001b[0;32m<ipython-input-30-375dd613a313>\u001b[0m in \u001b[0;36m<module>\u001b[0;34m()\u001b[0m\n\u001b[0;32m----> 1\u001b[0;31m \u001b[0mtest_pipeline_data\u001b[0m\u001b[0;34m(\u001b[0m\u001b[0;34m)\u001b[0m\u001b[0;34m\u001b[0m\u001b[0;34m\u001b[0m\u001b[0m\n\u001b[0m",
      "\u001b[0;32m<ipython-input-29-5534dd81b89d>\u001b[0m in \u001b[0;36mtest_pipeline_data\u001b[0;34m()\u001b[0m\n\u001b[1;32m     13\u001b[0m     \u001b[0mpipe\u001b[0m\u001b[0;34m.\u001b[0m\u001b[0mglue\u001b[0m\u001b[0;34m(\u001b[0m\u001b[0;34m[\u001b[0m\u001b[0;34m'lcfit'\u001b[0m\u001b[0;34m,\u001b[0m\u001b[0;34m'getmu'\u001b[0m\u001b[0;34m]\u001b[0m\u001b[0;34m)\u001b[0m\u001b[0;34m\u001b[0m\u001b[0;34m\u001b[0m\u001b[0m\n\u001b[1;32m     14\u001b[0m     \u001b[0mpipe\u001b[0m\u001b[0;34m.\u001b[0m\u001b[0mglue\u001b[0m\u001b[0;34m(\u001b[0m\u001b[0;34m[\u001b[0m\u001b[0;34m'getmu'\u001b[0m\u001b[0;34m,\u001b[0m\u001b[0;34m'cosmofit'\u001b[0m\u001b[0;34m]\u001b[0m\u001b[0;34m)\u001b[0m\u001b[0;34m\u001b[0m\u001b[0;34m\u001b[0m\u001b[0m\n\u001b[0;32m---> 15\u001b[0;31m     \u001b[0mpipe\u001b[0m\u001b[0;34m.\u001b[0m\u001b[0mrun\u001b[0m\u001b[0;34m(\u001b[0m\u001b[0;34m)\u001b[0m\u001b[0;34m\u001b[0m\u001b[0;34m\u001b[0m\u001b[0m\n\u001b[0m",
      "\u001b[0;32m/home/mi/salt3/SALT3/salt3/pipeline/pipeline.py\u001b[0m in \u001b[0;36mrun\u001b[0;34m(self)\u001b[0m\n\u001b[1;32m    117\u001b[0m         \u001b[0;32mfor\u001b[0m \u001b[0mprostr\u001b[0m \u001b[0;32min\u001b[0m \u001b[0mself\u001b[0m\u001b[0;34m.\u001b[0m\u001b[0mpipepros\u001b[0m\u001b[0;34m:\u001b[0m\u001b[0;34m\u001b[0m\u001b[0;34m\u001b[0m\u001b[0m\n\u001b[1;32m    118\u001b[0m             \u001b[0mpipepro\u001b[0m \u001b[0;34m=\u001b[0m \u001b[0mself\u001b[0m\u001b[0;34m.\u001b[0m\u001b[0m_get_pipepro_from_string\u001b[0m\u001b[0;34m(\u001b[0m\u001b[0mprostr\u001b[0m\u001b[0;34m)\u001b[0m\u001b[0;34m\u001b[0m\u001b[0;34m\u001b[0m\u001b[0m\n\u001b[0;32m--> 119\u001b[0;31m             \u001b[0mpipepro\u001b[0m\u001b[0;34m.\u001b[0m\u001b[0mrun\u001b[0m\u001b[0;34m(\u001b[0m\u001b[0;34m)\u001b[0m\u001b[0;34m\u001b[0m\u001b[0;34m\u001b[0m\u001b[0m\n\u001b[0m\u001b[1;32m    120\u001b[0m         \u001b[0;31m# self.Simulation.run()\u001b[0m\u001b[0;34m\u001b[0m\u001b[0;34m\u001b[0m\u001b[0;34m\u001b[0m\u001b[0m\n\u001b[1;32m    121\u001b[0m         \u001b[0;31m# self.Training.run()\u001b[0m\u001b[0;34m\u001b[0m\u001b[0;34m\u001b[0m\u001b[0;34m\u001b[0m\u001b[0m\n",
      "\u001b[0;32m/home/mi/salt3/SALT3/salt3/pipeline/pipeline.py\u001b[0m in \u001b[0;36mrun\u001b[0;34m(self)\u001b[0m\n\u001b[1;32m    232\u001b[0m                 \u001b[0;32mfor\u001b[0m \u001b[0margitem\u001b[0m \u001b[0;32min\u001b[0m \u001b[0marg\u001b[0m\u001b[0;34m.\u001b[0m\u001b[0msplit\u001b[0m\u001b[0;34m(\u001b[0m\u001b[0;34m' '\u001b[0m\u001b[0;34m)\u001b[0m\u001b[0;34m:\u001b[0m\u001b[0;34m\u001b[0m\u001b[0;34m\u001b[0m\u001b[0m\n\u001b[1;32m    233\u001b[0m                     \u001b[0margs\u001b[0m\u001b[0;34m.\u001b[0m\u001b[0mappend\u001b[0m\u001b[0;34m(\u001b[0m\u001b[0margitem\u001b[0m\u001b[0;34m)\u001b[0m\u001b[0;34m\u001b[0m\u001b[0;34m\u001b[0m\u001b[0m\n\u001b[0;32m--> 234\u001b[0;31m         \u001b[0m_run_external_pro\u001b[0m\u001b[0;34m(\u001b[0m\u001b[0mself\u001b[0m\u001b[0;34m.\u001b[0m\u001b[0mpro\u001b[0m\u001b[0;34m,\u001b[0m \u001b[0margs\u001b[0m\u001b[0;34m)\u001b[0m\u001b[0;34m\u001b[0m\u001b[0;34m\u001b[0m\u001b[0m\n\u001b[0m\u001b[1;32m    235\u001b[0m \u001b[0;34m\u001b[0m\u001b[0m\n\u001b[1;32m    236\u001b[0m     \u001b[0;32mdef\u001b[0m \u001b[0m_get_input_info\u001b[0m\u001b[0;34m(\u001b[0m\u001b[0mself\u001b[0m\u001b[0;34m)\u001b[0m\u001b[0;34m:\u001b[0m\u001b[0;34m\u001b[0m\u001b[0;34m\u001b[0m\u001b[0m\n",
      "\u001b[0;32m/home/mi/salt3/SALT3/salt3/pipeline/pipeline.py\u001b[0m in \u001b[0;36m_run_external_pro\u001b[0;34m(pro, args)\u001b[0m\n\u001b[1;32m    528\u001b[0m         \u001b[0mprint\u001b[0m\u001b[0;34m(\u001b[0m\u001b[0;34m\"{} finished successfully.\"\u001b[0m\u001b[0;34m.\u001b[0m\u001b[0mformat\u001b[0m\u001b[0;34m(\u001b[0m\u001b[0mpro\u001b[0m\u001b[0;34m.\u001b[0m\u001b[0mstrip\u001b[0m\u001b[0;34m(\u001b[0m\u001b[0;34m)\u001b[0m\u001b[0;34m)\u001b[0m\u001b[0;34m)\u001b[0m\u001b[0;34m\u001b[0m\u001b[0;34m\u001b[0m\u001b[0m\n\u001b[1;32m    529\u001b[0m     \u001b[0;32melse\u001b[0m\u001b[0;34m:\u001b[0m\u001b[0;34m\u001b[0m\u001b[0;34m\u001b[0m\u001b[0m\n\u001b[0;32m--> 530\u001b[0;31m         \u001b[0;32mraise\u001b[0m \u001b[0mValueError\u001b[0m\u001b[0;34m(\u001b[0m\u001b[0;34m\"Something went wrong..\"\u001b[0m\u001b[0;34m)\u001b[0m \u001b[0;31m##possible to pass the error msg from the program?\u001b[0m\u001b[0;34m\u001b[0m\u001b[0;34m\u001b[0m\u001b[0m\n\u001b[0m\u001b[1;32m    531\u001b[0m \u001b[0;34m\u001b[0m\u001b[0m\n\u001b[1;32m    532\u001b[0m     \u001b[0;32mreturn\u001b[0m\u001b[0;34m\u001b[0m\u001b[0;34m\u001b[0m\u001b[0m\n",
      "\u001b[0;31mValueError\u001b[0m: Something went wrong.."
     ]
    }
   ],
   "source": [
    "test_pipeline_data()"
   ]
  },
  {
   "cell_type": "code",
   "execution_count": null,
   "metadata": {},
   "outputs": [],
   "source": []
  }
 ],
 "metadata": {
  "kernelspec": {
   "display_name": "Python 3",
   "language": "python",
   "name": "python3"
  },
  "language_info": {
   "codemirror_mode": {
    "name": "ipython",
    "version": 3
   },
   "file_extension": ".py",
   "mimetype": "text/x-python",
   "name": "python",
   "nbconvert_exporter": "python",
   "pygments_lexer": "ipython3",
   "version": "3.7.3"
  }
 },
 "nbformat": 4,
 "nbformat_minor": 4
}
